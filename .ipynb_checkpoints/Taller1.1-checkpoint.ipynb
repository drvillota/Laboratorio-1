{
 "cells": [
  {
   "cell_type": "markdown",
   "metadata": {},
   "source": [
    "- Nicolas Segura  - 201716989\n",
    "- David Ruiz - 201620095\n",
    "- Jaime Torres"
   ]
  },
  {
   "cell_type": "markdown",
   "metadata": {},
   "source": [
    "## 1. Importación de librerías \n",
    "\n",
    "En las siguientes líneas de código se importan las librerías y herramientas necesarias para desarrollar el caso de uso."
   ]
  },
  {
   "cell_type": "code",
   "execution_count": 132,
   "metadata": {},
   "outputs": [],
   "source": [
    "# Declaración de la semilla\n",
    "seed = 161\n",
    "# Librerías para manejo de datos\n",
    "import pandas as pd\n",
    "pd.set_option('display.max_columns', 25) # Número máximo de columnas a mostrar\n",
    "pd.set_option('display.max_rows', 50) # Numero máximo de filas a mostar\n",
    "\n",
    "import numpy as np\n",
    "np.random.seed(seed)\n",
    "\n",
    "\n",
    "# Para preparar los datos\n",
    "# ------------------------\n",
    "from sklearn import tree as tr\n",
    "from sklearn.preprocessing import LabelEncoder\n",
    "from sklearn.preprocessing import StandardScaler\n",
    "# Para crear el arbol de decisión \n",
    "from sklearn.tree import DecisionTreeClassifier \n",
    "# Para usar KNN como clasificador\n",
    "from sklearn.neighbors import KNeighborsClassifier\n",
    "# Para realizar la separación del conjunto de aprendizaje en entrenamiento y test.\n",
    "from sklearn.model_selection import train_test_split\n",
    "# Para evaluar el modelo\n",
    "from sklearn.metrics import confusion_matrix, classification_report, precision_score, recall_score, f1_score, accuracy_score\n",
    "from sklearn.metrics import plot_confusion_matrix , ConfusionMatrixDisplay\n",
    "# Para búsqueda de hiperparámetros\n",
    "from sklearn.model_selection import GridSearchCV\n",
    "# Para la validación cruzada\n",
    "from sklearn.model_selection import KFold \n",
    "\n",
    "from sklearn.linear_model import LinearRegression\n",
    "from sklearn.metrics import mean_squared_error, r2_score\n",
    "\n",
    "\n",
    "#Librerías para la visualización\n",
    "# -------------------------\n",
    "import matplotlib.pyplot as plt\n",
    "# Seaborn\n",
    "import seaborn as sns\n",
    "\n",
    "import pandas_profiling\n",
    "\n"
   ]
  },
  {
   "cell_type": "markdown",
   "metadata": {},
   "source": [
    "## 2. Carga de los datos\n",
    "A través de la librería **pandas** podemos realizar la carga de datos desde diferentes fuentes de información, en este caso se realizará la carga de un archivo plano csv (archivo separado por comas)."
   ]
  },
  {
   "cell_type": "code",
   "execution_count": 55,
   "metadata": {},
   "outputs": [],
   "source": [
    "# Se cargan los datos. \n",
    "diagnostics=pd.read_csv('202210_Laboratorio1_data_Datos_Clasificacion_2022.csv', sep=';', encoding = 'utf-8', dtype=\"unicode\")"
   ]
  },
  {
   "cell_type": "code",
   "execution_count": 56,
   "metadata": {},
   "outputs": [
    {
     "data": {
      "text/plain": [
       "(100000, 27)"
      ]
     },
     "execution_count": 56,
     "metadata": {},
     "output_type": "execute_result"
    }
   ],
   "source": [
    "# Cantidad de datos y número de variables\n",
    "diagnostics.shape"
   ]
  },
  {
   "cell_type": "code",
   "execution_count": 57,
   "metadata": {},
   "outputs": [
    {
     "data": {
      "text/html": [
       "<div>\n",
       "<style scoped>\n",
       "    .dataframe tbody tr th:only-of-type {\n",
       "        vertical-align: middle;\n",
       "    }\n",
       "\n",
       "    .dataframe tbody tr th {\n",
       "        vertical-align: top;\n",
       "    }\n",
       "\n",
       "    .dataframe thead th {\n",
       "        text-align: right;\n",
       "    }\n",
       "</style>\n",
       "<table border=\"1\" class=\"dataframe\">\n",
       "  <thead>\n",
       "    <tr style=\"text-align: right;\">\n",
       "      <th></th>\n",
       "      <th>Diabetes_012</th>\n",
       "      <th>HighBP</th>\n",
       "      <th>HighChol</th>\n",
       "      <th>CholCheck</th>\n",
       "      <th>BMI</th>\n",
       "      <th>Smoker</th>\n",
       "      <th>Stroke</th>\n",
       "      <th>HeartDiseaseorAttack</th>\n",
       "      <th>PhysActivity</th>\n",
       "      <th>Fruits</th>\n",
       "      <th>Veggies</th>\n",
       "      <th>HvyAlcoholConsump</th>\n",
       "      <th>...</th>\n",
       "      <th>MentHlth</th>\n",
       "      <th>PhysHlth</th>\n",
       "      <th>DiffWalk</th>\n",
       "      <th>Sex</th>\n",
       "      <th>Age</th>\n",
       "      <th>Education</th>\n",
       "      <th>Income</th>\n",
       "      <th>Unnamed: 22</th>\n",
       "      <th>Unnamed: 23</th>\n",
       "      <th>Unnamed: 24</th>\n",
       "      <th>Unnamed: 25</th>\n",
       "      <th>Unnamed: 26</th>\n",
       "    </tr>\n",
       "  </thead>\n",
       "  <tbody>\n",
       "    <tr>\n",
       "      <th>0</th>\n",
       "      <td>0</td>\n",
       "      <td>1</td>\n",
       "      <td>1</td>\n",
       "      <td>1</td>\n",
       "      <td>40</td>\n",
       "      <td>1</td>\n",
       "      <td>0</td>\n",
       "      <td>0</td>\n",
       "      <td>0</td>\n",
       "      <td>0</td>\n",
       "      <td>1</td>\n",
       "      <td>0</td>\n",
       "      <td>...</td>\n",
       "      <td>18</td>\n",
       "      <td>15</td>\n",
       "      <td>1</td>\n",
       "      <td>0</td>\n",
       "      <td>9</td>\n",
       "      <td>4</td>\n",
       "      <td>3</td>\n",
       "      <td>NaN</td>\n",
       "      <td>NaN</td>\n",
       "      <td>NaN</td>\n",
       "      <td>NaN</td>\n",
       "      <td>NaN</td>\n",
       "    </tr>\n",
       "    <tr>\n",
       "      <th>1</th>\n",
       "      <td>0</td>\n",
       "      <td>0</td>\n",
       "      <td>0</td>\n",
       "      <td>0</td>\n",
       "      <td>25</td>\n",
       "      <td>1</td>\n",
       "      <td>0</td>\n",
       "      <td>0</td>\n",
       "      <td>1</td>\n",
       "      <td>0</td>\n",
       "      <td>0</td>\n",
       "      <td>0</td>\n",
       "      <td>...</td>\n",
       "      <td>0</td>\n",
       "      <td>0</td>\n",
       "      <td>0</td>\n",
       "      <td>0</td>\n",
       "      <td>7</td>\n",
       "      <td>6</td>\n",
       "      <td>1</td>\n",
       "      <td>NaN</td>\n",
       "      <td>NaN</td>\n",
       "      <td>NaN</td>\n",
       "      <td>NaN</td>\n",
       "      <td>NaN</td>\n",
       "    </tr>\n",
       "    <tr>\n",
       "      <th>2</th>\n",
       "      <td>0</td>\n",
       "      <td>1</td>\n",
       "      <td>1</td>\n",
       "      <td>1</td>\n",
       "      <td>28</td>\n",
       "      <td>0</td>\n",
       "      <td>0</td>\n",
       "      <td>0</td>\n",
       "      <td>0</td>\n",
       "      <td>1</td>\n",
       "      <td>0</td>\n",
       "      <td>0</td>\n",
       "      <td>...</td>\n",
       "      <td>30</td>\n",
       "      <td>30</td>\n",
       "      <td>1</td>\n",
       "      <td>0</td>\n",
       "      <td>9</td>\n",
       "      <td>4</td>\n",
       "      <td>8</td>\n",
       "      <td>NaN</td>\n",
       "      <td>NaN</td>\n",
       "      <td>NaN</td>\n",
       "      <td>NaN</td>\n",
       "      <td>NaN</td>\n",
       "    </tr>\n",
       "    <tr>\n",
       "      <th>3</th>\n",
       "      <td>0</td>\n",
       "      <td>1</td>\n",
       "      <td>0</td>\n",
       "      <td>1</td>\n",
       "      <td>27</td>\n",
       "      <td>0</td>\n",
       "      <td>0</td>\n",
       "      <td>0</td>\n",
       "      <td>1</td>\n",
       "      <td>1</td>\n",
       "      <td>1</td>\n",
       "      <td>0</td>\n",
       "      <td>...</td>\n",
       "      <td>0</td>\n",
       "      <td>0</td>\n",
       "      <td>0</td>\n",
       "      <td>0</td>\n",
       "      <td>11</td>\n",
       "      <td>3</td>\n",
       "      <td>6</td>\n",
       "      <td>NaN</td>\n",
       "      <td>NaN</td>\n",
       "      <td>NaN</td>\n",
       "      <td>NaN</td>\n",
       "      <td>NaN</td>\n",
       "    </tr>\n",
       "    <tr>\n",
       "      <th>4</th>\n",
       "      <td>0</td>\n",
       "      <td>1</td>\n",
       "      <td>1</td>\n",
       "      <td>1</td>\n",
       "      <td>24</td>\n",
       "      <td>0</td>\n",
       "      <td>0</td>\n",
       "      <td>0</td>\n",
       "      <td>1</td>\n",
       "      <td>1</td>\n",
       "      <td>1</td>\n",
       "      <td>0</td>\n",
       "      <td>...</td>\n",
       "      <td>3</td>\n",
       "      <td>0</td>\n",
       "      <td>0</td>\n",
       "      <td>0</td>\n",
       "      <td>11</td>\n",
       "      <td>5</td>\n",
       "      <td>4</td>\n",
       "      <td>NaN</td>\n",
       "      <td>NaN</td>\n",
       "      <td>NaN</td>\n",
       "      <td>NaN</td>\n",
       "      <td>NaN</td>\n",
       "    </tr>\n",
       "  </tbody>\n",
       "</table>\n",
       "<p>5 rows × 27 columns</p>\n",
       "</div>"
      ],
      "text/plain": [
       "  Diabetes_012 HighBP HighChol CholCheck BMI Smoker Stroke  \\\n",
       "0            0      1        1         1  40      1      0   \n",
       "1            0      0        0         0  25      1      0   \n",
       "2            0      1        1         1  28      0      0   \n",
       "3            0      1        0         1  27      0      0   \n",
       "4            0      1        1         1  24      0      0   \n",
       "\n",
       "  HeartDiseaseorAttack PhysActivity Fruits Veggies HvyAlcoholConsump  ...  \\\n",
       "0                    0            0      0       1                 0  ...   \n",
       "1                    0            1      0       0                 0  ...   \n",
       "2                    0            0      1       0                 0  ...   \n",
       "3                    0            1      1       1                 0  ...   \n",
       "4                    0            1      1       1                 0  ...   \n",
       "\n",
       "  MentHlth PhysHlth DiffWalk Sex Age Education Income Unnamed: 22 Unnamed: 23  \\\n",
       "0       18       15        1   0   9         4      3         NaN         NaN   \n",
       "1        0        0        0   0   7         6      1         NaN         NaN   \n",
       "2       30       30        1   0   9         4      8         NaN         NaN   \n",
       "3        0        0        0   0  11         3      6         NaN         NaN   \n",
       "4        3        0        0   0  11         5      4         NaN         NaN   \n",
       "\n",
       "  Unnamed: 24 Unnamed: 25 Unnamed: 26  \n",
       "0         NaN         NaN         NaN  \n",
       "1         NaN         NaN         NaN  \n",
       "2         NaN         NaN         NaN  \n",
       "3         NaN         NaN         NaN  \n",
       "4         NaN         NaN         NaN  \n",
       "\n",
       "[5 rows x 27 columns]"
      ]
     },
     "execution_count": 57,
     "metadata": {},
     "output_type": "execute_result"
    }
   ],
   "source": [
    "# Mostrar los datos\n",
    "diagnostics.head()"
   ]
  },
  {
   "cell_type": "code",
   "execution_count": 58,
   "metadata": {
    "scrolled": true
   },
   "outputs": [
    {
     "data": {
      "text/plain": [
       "Diabetes_012            object\n",
       "HighBP                  object\n",
       "HighChol                object\n",
       "CholCheck               object\n",
       "BMI                     object\n",
       "Smoker                  object\n",
       "Stroke                  object\n",
       "HeartDiseaseorAttack    object\n",
       "PhysActivity            object\n",
       "Fruits                  object\n",
       "Veggies                 object\n",
       "HvyAlcoholConsump       object\n",
       "AnyHealthcare           object\n",
       "NoDocbcCost             object\n",
       "GenHlth                 object\n",
       "MentHlth                object\n",
       "PhysHlth                object\n",
       "DiffWalk                object\n",
       "Sex                     object\n",
       "Age                     object\n",
       "Education               object\n",
       "Income                  object\n",
       "Unnamed: 22             object\n",
       "Unnamed: 23             object\n",
       "Unnamed: 24             object\n",
       "Unnamed: 25             object\n",
       "Unnamed: 26             object\n",
       "dtype: object"
      ]
     },
     "execution_count": 58,
     "metadata": {},
     "output_type": "execute_result"
    }
   ],
   "source": [
    "# Podemos ver los tipos de todas la variables.\n",
    "diagnostics.dtypes"
   ]
  },
  {
   "cell_type": "code",
   "execution_count": 59,
   "metadata": {},
   "outputs": [
    {
     "data": {
      "text/html": [
       "<div>\n",
       "<style scoped>\n",
       "    .dataframe tbody tr th:only-of-type {\n",
       "        vertical-align: middle;\n",
       "    }\n",
       "\n",
       "    .dataframe tbody tr th {\n",
       "        vertical-align: top;\n",
       "    }\n",
       "\n",
       "    .dataframe thead th {\n",
       "        text-align: right;\n",
       "    }\n",
       "</style>\n",
       "<table border=\"1\" class=\"dataframe\">\n",
       "  <thead>\n",
       "    <tr style=\"text-align: right;\">\n",
       "      <th></th>\n",
       "      <th>Diabetes_012</th>\n",
       "      <th>HighBP</th>\n",
       "      <th>HighChol</th>\n",
       "      <th>CholCheck</th>\n",
       "      <th>BMI</th>\n",
       "      <th>Smoker</th>\n",
       "      <th>Stroke</th>\n",
       "      <th>HeartDiseaseorAttack</th>\n",
       "      <th>PhysActivity</th>\n",
       "      <th>Fruits</th>\n",
       "      <th>Veggies</th>\n",
       "      <th>HvyAlcoholConsump</th>\n",
       "      <th>...</th>\n",
       "      <th>MentHlth</th>\n",
       "      <th>PhysHlth</th>\n",
       "      <th>DiffWalk</th>\n",
       "      <th>Sex</th>\n",
       "      <th>Age</th>\n",
       "      <th>Education</th>\n",
       "      <th>Income</th>\n",
       "      <th>Unnamed: 22</th>\n",
       "      <th>Unnamed: 23</th>\n",
       "      <th>Unnamed: 24</th>\n",
       "      <th>Unnamed: 25</th>\n",
       "      <th>Unnamed: 26</th>\n",
       "    </tr>\n",
       "  </thead>\n",
       "  <tbody>\n",
       "    <tr>\n",
       "      <th>count</th>\n",
       "      <td>99984</td>\n",
       "      <td>99982</td>\n",
       "      <td>99991</td>\n",
       "      <td>99984</td>\n",
       "      <td>99981</td>\n",
       "      <td>99979</td>\n",
       "      <td>99987</td>\n",
       "      <td>99987</td>\n",
       "      <td>99985</td>\n",
       "      <td>99976</td>\n",
       "      <td>99989</td>\n",
       "      <td>99988</td>\n",
       "      <td>...</td>\n",
       "      <td>99986</td>\n",
       "      <td>99978</td>\n",
       "      <td>99987</td>\n",
       "      <td>99991</td>\n",
       "      <td>99988</td>\n",
       "      <td>99981</td>\n",
       "      <td>99999</td>\n",
       "      <td>0</td>\n",
       "      <td>0</td>\n",
       "      <td>0</td>\n",
       "      <td>0</td>\n",
       "      <td>0</td>\n",
       "    </tr>\n",
       "    <tr>\n",
       "      <th>unique</th>\n",
       "      <td>6</td>\n",
       "      <td>5</td>\n",
       "      <td>5</td>\n",
       "      <td>5</td>\n",
       "      <td>95</td>\n",
       "      <td>5</td>\n",
       "      <td>5</td>\n",
       "      <td>5</td>\n",
       "      <td>5</td>\n",
       "      <td>5</td>\n",
       "      <td>5</td>\n",
       "      <td>5</td>\n",
       "      <td>...</td>\n",
       "      <td>49</td>\n",
       "      <td>54</td>\n",
       "      <td>5</td>\n",
       "      <td>5</td>\n",
       "      <td>16</td>\n",
       "      <td>9</td>\n",
       "      <td>11</td>\n",
       "      <td>0</td>\n",
       "      <td>0</td>\n",
       "      <td>0</td>\n",
       "      <td>0</td>\n",
       "      <td>0</td>\n",
       "    </tr>\n",
       "    <tr>\n",
       "      <th>top</th>\n",
       "      <td>0</td>\n",
       "      <td>0</td>\n",
       "      <td>0</td>\n",
       "      <td>1</td>\n",
       "      <td>27</td>\n",
       "      <td>0</td>\n",
       "      <td>0</td>\n",
       "      <td>0</td>\n",
       "      <td>1</td>\n",
       "      <td>1</td>\n",
       "      <td>1</td>\n",
       "      <td>0</td>\n",
       "      <td>...</td>\n",
       "      <td>0</td>\n",
       "      <td>0</td>\n",
       "      <td>0</td>\n",
       "      <td>0</td>\n",
       "      <td>9</td>\n",
       "      <td>6</td>\n",
       "      <td>8</td>\n",
       "      <td>NaN</td>\n",
       "      <td>NaN</td>\n",
       "      <td>NaN</td>\n",
       "      <td>NaN</td>\n",
       "      <td>NaN</td>\n",
       "    </tr>\n",
       "    <tr>\n",
       "      <th>freq</th>\n",
       "      <td>84078</td>\n",
       "      <td>56544</td>\n",
       "      <td>56814</td>\n",
       "      <td>96330</td>\n",
       "      <td>9624</td>\n",
       "      <td>55426</td>\n",
       "      <td>95818</td>\n",
       "      <td>90617</td>\n",
       "      <td>76135</td>\n",
       "      <td>63639</td>\n",
       "      <td>81464</td>\n",
       "      <td>94248</td>\n",
       "      <td>...</td>\n",
       "      <td>68495</td>\n",
       "      <td>62518</td>\n",
       "      <td>83320</td>\n",
       "      <td>56163</td>\n",
       "      <td>13114</td>\n",
       "      <td>43815</td>\n",
       "      <td>36920</td>\n",
       "      <td>NaN</td>\n",
       "      <td>NaN</td>\n",
       "      <td>NaN</td>\n",
       "      <td>NaN</td>\n",
       "      <td>NaN</td>\n",
       "    </tr>\n",
       "  </tbody>\n",
       "</table>\n",
       "<p>4 rows × 27 columns</p>\n",
       "</div>"
      ],
      "text/plain": [
       "       Diabetes_012 HighBP HighChol CholCheck    BMI Smoker Stroke  \\\n",
       "count         99984  99982    99991     99984  99981  99979  99987   \n",
       "unique            6      5        5         5     95      5      5   \n",
       "top               0      0        0         1     27      0      0   \n",
       "freq          84078  56544    56814     96330   9624  55426  95818   \n",
       "\n",
       "       HeartDiseaseorAttack PhysActivity Fruits Veggies HvyAlcoholConsump  \\\n",
       "count                 99987        99985  99976   99989             99988   \n",
       "unique                    5            5      5       5                 5   \n",
       "top                       0            1      1       1                 0   \n",
       "freq                  90617        76135  63639   81464             94248   \n",
       "\n",
       "        ... MentHlth PhysHlth DiffWalk    Sex    Age Education Income  \\\n",
       "count   ...    99986    99978    99987  99991  99988     99981  99999   \n",
       "unique  ...       49       54        5      5     16         9     11   \n",
       "top     ...        0        0        0      0      9         6      8   \n",
       "freq    ...    68495    62518    83320  56163  13114     43815  36920   \n",
       "\n",
       "       Unnamed: 22 Unnamed: 23 Unnamed: 24 Unnamed: 25 Unnamed: 26  \n",
       "count            0           0           0           0           0  \n",
       "unique           0           0           0           0           0  \n",
       "top            NaN         NaN         NaN         NaN         NaN  \n",
       "freq           NaN         NaN         NaN         NaN         NaN  \n",
       "\n",
       "[4 rows x 27 columns]"
      ]
     },
     "execution_count": 59,
     "metadata": {},
     "output_type": "execute_result"
    }
   ],
   "source": [
    "# Y hacer una descripción de los datos\n",
    "diagnostics.describe()"
   ]
  },
  {
   "cell_type": "code",
   "execution_count": 60,
   "metadata": {},
   "outputs": [
    {
     "data": {
      "text/plain": [
       "Diabetes_012                16\n",
       "HighBP                      18\n",
       "HighChol                     9\n",
       "CholCheck                   16\n",
       "BMI                         19\n",
       "Smoker                      21\n",
       "Stroke                      13\n",
       "HeartDiseaseorAttack        13\n",
       "PhysActivity                15\n",
       "Fruits                      24\n",
       "Veggies                     11\n",
       "HvyAlcoholConsump           12\n",
       "AnyHealthcare               16\n",
       "NoDocbcCost                 22\n",
       "GenHlth                     18\n",
       "MentHlth                    14\n",
       "PhysHlth                    22\n",
       "DiffWalk                    13\n",
       "Sex                          9\n",
       "Age                         12\n",
       "Education                   19\n",
       "Income                       1\n",
       "Unnamed: 22             100000\n",
       "Unnamed: 23             100000\n",
       "Unnamed: 24             100000\n",
       "Unnamed: 25             100000\n",
       "Unnamed: 26             100000\n",
       "dtype: int64"
      ]
     },
     "execution_count": 60,
     "metadata": {},
     "output_type": "execute_result"
    }
   ],
   "source": [
    "diagnostics.isnull().sum(axis = 0)"
   ]
  },
  {
   "cell_type": "markdown",
   "metadata": {},
   "source": [
    "## 3. Limpieza y preparación de los datos\n",
    "\n",
    "Primero vamos a ejecutar los pasos de limpieza de los datos, relacionados el tratamiento de ausencias y registros duplicados."
   ]
  },
  {
   "cell_type": "code",
   "execution_count": 61,
   "metadata": {},
   "outputs": [],
   "source": [
    "# Es recomendable que todos los pasos de limpieza y preparación se realicen sobre otro archivo.\n",
    "diagnostics_t = diagnostics.copy()\n",
    "# Primero eliminamos las columnas que teniana  todos los valores en Nan, segundo eliminamos al atributo AnyHealthcare ya que tener un seguro medico no esta relacionado con tener diabetes\n",
    "diagnostics_t = diagnostics_t.drop([\"AnyHealthcare\",'Unnamed: 22','Unnamed: 23','Unnamed: 24','Unnamed: 25','Unnamed: 26',], axis=1)"
   ]
  },
  {
   "cell_type": "code",
   "execution_count": 62,
   "metadata": {},
   "outputs": [
    {
     "data": {
      "text/plain": [
       "Diabetes_012            16\n",
       "HighBP                  18\n",
       "HighChol                 9\n",
       "CholCheck               16\n",
       "BMI                     19\n",
       "Smoker                  21\n",
       "Stroke                  13\n",
       "HeartDiseaseorAttack    13\n",
       "PhysActivity            15\n",
       "Fruits                  24\n",
       "Veggies                 11\n",
       "HvyAlcoholConsump       12\n",
       "NoDocbcCost             22\n",
       "GenHlth                 18\n",
       "MentHlth                14\n",
       "PhysHlth                22\n",
       "DiffWalk                13\n",
       "Sex                      9\n",
       "Age                     12\n",
       "Education               19\n",
       "Income                   1\n",
       "dtype: int64"
      ]
     },
     "execution_count": 62,
     "metadata": {},
     "output_type": "execute_result"
    }
   ],
   "source": [
    "diagnostics_t.isna().sum(axis = 0)"
   ]
  },
  {
   "cell_type": "code",
   "execution_count": 63,
   "metadata": {},
   "outputs": [],
   "source": [
    "# Eliminación registros con ausencias, en este caso se eliminaron los registros que registraban 0 en PsyHlth, BMI, GenHlth o MentHlth\n",
    "diagnostics_t.replace('-', np.nan, inplace=True)\n",
    "indices = diagnostics_t[(diagnostics_t['MentHlth'] == 0) | (diagnostics_t['GenHlth'] == 0) | (diagnostics_t['PhysHlth'] == 0) | (diagnostics_t['Income'] == 0) | (diagnostics_t['Education'] == 0) | (diagnostics_t['Age'] == 0) ].index\n",
    "diagnostics_t.drop(indices, inplace=True)\n",
    "diagnostics_t.dropna(axis=0, inplace=True)\n"
   ]
  },
  {
   "cell_type": "code",
   "execution_count": 64,
   "metadata": {},
   "outputs": [
    {
     "data": {
      "text/html": [
       "<div>\n",
       "<style scoped>\n",
       "    .dataframe tbody tr th:only-of-type {\n",
       "        vertical-align: middle;\n",
       "    }\n",
       "\n",
       "    .dataframe tbody tr th {\n",
       "        vertical-align: top;\n",
       "    }\n",
       "\n",
       "    .dataframe thead th {\n",
       "        text-align: right;\n",
       "    }\n",
       "</style>\n",
       "<table border=\"1\" class=\"dataframe\">\n",
       "  <thead>\n",
       "    <tr style=\"text-align: right;\">\n",
       "      <th></th>\n",
       "      <th>Diabetes_012</th>\n",
       "      <th>HighBP</th>\n",
       "      <th>HighChol</th>\n",
       "      <th>CholCheck</th>\n",
       "      <th>BMI</th>\n",
       "      <th>Smoker</th>\n",
       "      <th>Stroke</th>\n",
       "      <th>HeartDiseaseorAttack</th>\n",
       "      <th>PhysActivity</th>\n",
       "      <th>Fruits</th>\n",
       "      <th>Veggies</th>\n",
       "      <th>HvyAlcoholConsump</th>\n",
       "      <th>NoDocbcCost</th>\n",
       "      <th>GenHlth</th>\n",
       "      <th>MentHlth</th>\n",
       "      <th>PhysHlth</th>\n",
       "      <th>DiffWalk</th>\n",
       "      <th>Sex</th>\n",
       "      <th>Age</th>\n",
       "      <th>Education</th>\n",
       "      <th>Income</th>\n",
       "    </tr>\n",
       "  </thead>\n",
       "  <tbody>\n",
       "    <tr>\n",
       "      <th>count</th>\n",
       "      <td>99392</td>\n",
       "      <td>99392</td>\n",
       "      <td>99392</td>\n",
       "      <td>99392</td>\n",
       "      <td>99392</td>\n",
       "      <td>99392</td>\n",
       "      <td>99392</td>\n",
       "      <td>99392</td>\n",
       "      <td>99392</td>\n",
       "      <td>99392</td>\n",
       "      <td>99392</td>\n",
       "      <td>99392</td>\n",
       "      <td>99392</td>\n",
       "      <td>99392</td>\n",
       "      <td>99392</td>\n",
       "      <td>99392</td>\n",
       "      <td>99392</td>\n",
       "      <td>99392</td>\n",
       "      <td>99392</td>\n",
       "      <td>99392</td>\n",
       "      <td>99392</td>\n",
       "    </tr>\n",
       "    <tr>\n",
       "      <th>unique</th>\n",
       "      <td>5</td>\n",
       "      <td>4</td>\n",
       "      <td>4</td>\n",
       "      <td>4</td>\n",
       "      <td>94</td>\n",
       "      <td>4</td>\n",
       "      <td>4</td>\n",
       "      <td>4</td>\n",
       "      <td>4</td>\n",
       "      <td>4</td>\n",
       "      <td>4</td>\n",
       "      <td>4</td>\n",
       "      <td>4</td>\n",
       "      <td>7</td>\n",
       "      <td>48</td>\n",
       "      <td>53</td>\n",
       "      <td>4</td>\n",
       "      <td>4</td>\n",
       "      <td>15</td>\n",
       "      <td>8</td>\n",
       "      <td>10</td>\n",
       "    </tr>\n",
       "    <tr>\n",
       "      <th>top</th>\n",
       "      <td>0</td>\n",
       "      <td>0</td>\n",
       "      <td>0</td>\n",
       "      <td>1</td>\n",
       "      <td>27</td>\n",
       "      <td>0</td>\n",
       "      <td>0</td>\n",
       "      <td>0</td>\n",
       "      <td>1</td>\n",
       "      <td>1</td>\n",
       "      <td>1</td>\n",
       "      <td>0</td>\n",
       "      <td>0</td>\n",
       "      <td>2</td>\n",
       "      <td>0</td>\n",
       "      <td>0</td>\n",
       "      <td>0</td>\n",
       "      <td>0</td>\n",
       "      <td>9</td>\n",
       "      <td>6</td>\n",
       "      <td>8</td>\n",
       "    </tr>\n",
       "    <tr>\n",
       "      <th>freq</th>\n",
       "      <td>83597</td>\n",
       "      <td>56226</td>\n",
       "      <td>56482</td>\n",
       "      <td>95771</td>\n",
       "      <td>9583</td>\n",
       "      <td>55123</td>\n",
       "      <td>95264</td>\n",
       "      <td>90091</td>\n",
       "      <td>75707</td>\n",
       "      <td>63278</td>\n",
       "      <td>81002</td>\n",
       "      <td>93707</td>\n",
       "      <td>91240</td>\n",
       "      <td>34876</td>\n",
       "      <td>68101</td>\n",
       "      <td>62166</td>\n",
       "      <td>82845</td>\n",
       "      <td>55839</td>\n",
       "      <td>13038</td>\n",
       "      <td>43598</td>\n",
       "      <td>36707</td>\n",
       "    </tr>\n",
       "  </tbody>\n",
       "</table>\n",
       "</div>"
      ],
      "text/plain": [
       "       Diabetes_012 HighBP HighChol CholCheck    BMI Smoker Stroke  \\\n",
       "count         99392  99392    99392     99392  99392  99392  99392   \n",
       "unique            5      4        4         4     94      4      4   \n",
       "top               0      0        0         1     27      0      0   \n",
       "freq          83597  56226    56482     95771   9583  55123  95264   \n",
       "\n",
       "       HeartDiseaseorAttack PhysActivity Fruits Veggies HvyAlcoholConsump  \\\n",
       "count                 99392        99392  99392   99392             99392   \n",
       "unique                    4            4      4       4                 4   \n",
       "top                       0            1      1       1                 0   \n",
       "freq                  90091        75707  63278   81002             93707   \n",
       "\n",
       "       NoDocbcCost GenHlth MentHlth PhysHlth DiffWalk    Sex    Age Education  \\\n",
       "count        99392   99392    99392    99392    99392  99392  99392     99392   \n",
       "unique           4       7       48       53        4      4     15         8   \n",
       "top              0       2        0        0        0      0      9         6   \n",
       "freq         91240   34876    68101    62166    82845  55839  13038     43598   \n",
       "\n",
       "       Income  \n",
       "count   99392  \n",
       "unique     10  \n",
       "top         8  \n",
       "freq    36707  "
      ]
     },
     "execution_count": 64,
     "metadata": {},
     "output_type": "execute_result"
    }
   ],
   "source": [
    "#Muestra una descripción de los datos\n",
    "diagnostics_t.describe()"
   ]
  },
  {
   "cell_type": "code",
   "execution_count": 65,
   "metadata": {},
   "outputs": [
    {
     "data": {
      "text/plain": [
       "(99392, 21)"
      ]
     },
     "execution_count": 65,
     "metadata": {},
     "output_type": "execute_result"
    }
   ],
   "source": [
    "# Cantidad de datos y número de variables\n",
    "diagnostics_t.shape"
   ]
  },
  {
   "cell_type": "code",
   "execution_count": 66,
   "metadata": {
    "tags": []
   },
   "outputs": [
    {
     "data": {
      "text/html": [
       "<div>\n",
       "<style scoped>\n",
       "    .dataframe tbody tr th:only-of-type {\n",
       "        vertical-align: middle;\n",
       "    }\n",
       "\n",
       "    .dataframe tbody tr th {\n",
       "        vertical-align: top;\n",
       "    }\n",
       "\n",
       "    .dataframe thead th {\n",
       "        text-align: right;\n",
       "    }\n",
       "</style>\n",
       "<table border=\"1\" class=\"dataframe\">\n",
       "  <thead>\n",
       "    <tr style=\"text-align: right;\">\n",
       "      <th></th>\n",
       "      <th>Diabetes_012</th>\n",
       "      <th>HighBP</th>\n",
       "      <th>HighChol</th>\n",
       "      <th>CholCheck</th>\n",
       "      <th>BMI</th>\n",
       "      <th>Smoker</th>\n",
       "      <th>Stroke</th>\n",
       "      <th>HeartDiseaseorAttack</th>\n",
       "      <th>PhysActivity</th>\n",
       "      <th>Fruits</th>\n",
       "      <th>Veggies</th>\n",
       "      <th>HvyAlcoholConsump</th>\n",
       "      <th>NoDocbcCost</th>\n",
       "      <th>GenHlth</th>\n",
       "      <th>MentHlth</th>\n",
       "      <th>PhysHlth</th>\n",
       "      <th>DiffWalk</th>\n",
       "      <th>Sex</th>\n",
       "      <th>Age</th>\n",
       "      <th>Education</th>\n",
       "      <th>Income</th>\n",
       "    </tr>\n",
       "  </thead>\n",
       "  <tbody>\n",
       "    <tr>\n",
       "      <th>0</th>\n",
       "      <td>0</td>\n",
       "      <td>1</td>\n",
       "      <td>1</td>\n",
       "      <td>1</td>\n",
       "      <td>40</td>\n",
       "      <td>1</td>\n",
       "      <td>0</td>\n",
       "      <td>0</td>\n",
       "      <td>0</td>\n",
       "      <td>0</td>\n",
       "      <td>1</td>\n",
       "      <td>0</td>\n",
       "      <td>0</td>\n",
       "      <td>5</td>\n",
       "      <td>18</td>\n",
       "      <td>15</td>\n",
       "      <td>1</td>\n",
       "      <td>0</td>\n",
       "      <td>9</td>\n",
       "      <td>4</td>\n",
       "      <td>3</td>\n",
       "    </tr>\n",
       "    <tr>\n",
       "      <th>1</th>\n",
       "      <td>0</td>\n",
       "      <td>0</td>\n",
       "      <td>0</td>\n",
       "      <td>0</td>\n",
       "      <td>25</td>\n",
       "      <td>1</td>\n",
       "      <td>0</td>\n",
       "      <td>0</td>\n",
       "      <td>1</td>\n",
       "      <td>0</td>\n",
       "      <td>0</td>\n",
       "      <td>0</td>\n",
       "      <td>1</td>\n",
       "      <td>3</td>\n",
       "      <td>0</td>\n",
       "      <td>0</td>\n",
       "      <td>0</td>\n",
       "      <td>0</td>\n",
       "      <td>7</td>\n",
       "      <td>6</td>\n",
       "      <td>1</td>\n",
       "    </tr>\n",
       "    <tr>\n",
       "      <th>2</th>\n",
       "      <td>0</td>\n",
       "      <td>1</td>\n",
       "      <td>1</td>\n",
       "      <td>1</td>\n",
       "      <td>28</td>\n",
       "      <td>0</td>\n",
       "      <td>0</td>\n",
       "      <td>0</td>\n",
       "      <td>0</td>\n",
       "      <td>1</td>\n",
       "      <td>0</td>\n",
       "      <td>0</td>\n",
       "      <td>1</td>\n",
       "      <td>5</td>\n",
       "      <td>30</td>\n",
       "      <td>30</td>\n",
       "      <td>1</td>\n",
       "      <td>0</td>\n",
       "      <td>9</td>\n",
       "      <td>4</td>\n",
       "      <td>8</td>\n",
       "    </tr>\n",
       "    <tr>\n",
       "      <th>3</th>\n",
       "      <td>0</td>\n",
       "      <td>1</td>\n",
       "      <td>0</td>\n",
       "      <td>1</td>\n",
       "      <td>27</td>\n",
       "      <td>0</td>\n",
       "      <td>0</td>\n",
       "      <td>0</td>\n",
       "      <td>1</td>\n",
       "      <td>1</td>\n",
       "      <td>1</td>\n",
       "      <td>0</td>\n",
       "      <td>0</td>\n",
       "      <td>2</td>\n",
       "      <td>0</td>\n",
       "      <td>0</td>\n",
       "      <td>0</td>\n",
       "      <td>0</td>\n",
       "      <td>11</td>\n",
       "      <td>3</td>\n",
       "      <td>6</td>\n",
       "    </tr>\n",
       "    <tr>\n",
       "      <th>4</th>\n",
       "      <td>0</td>\n",
       "      <td>1</td>\n",
       "      <td>1</td>\n",
       "      <td>1</td>\n",
       "      <td>24</td>\n",
       "      <td>0</td>\n",
       "      <td>0</td>\n",
       "      <td>0</td>\n",
       "      <td>1</td>\n",
       "      <td>1</td>\n",
       "      <td>1</td>\n",
       "      <td>0</td>\n",
       "      <td>0</td>\n",
       "      <td>2</td>\n",
       "      <td>3</td>\n",
       "      <td>0</td>\n",
       "      <td>0</td>\n",
       "      <td>0</td>\n",
       "      <td>11</td>\n",
       "      <td>5</td>\n",
       "      <td>4</td>\n",
       "    </tr>\n",
       "  </tbody>\n",
       "</table>\n",
       "</div>"
      ],
      "text/plain": [
       "  Diabetes_012 HighBP HighChol CholCheck BMI Smoker Stroke  \\\n",
       "0            0      1        1         1  40      1      0   \n",
       "1            0      0        0         0  25      1      0   \n",
       "2            0      1        1         1  28      0      0   \n",
       "3            0      1        0         1  27      0      0   \n",
       "4            0      1        1         1  24      0      0   \n",
       "\n",
       "  HeartDiseaseorAttack PhysActivity Fruits Veggies HvyAlcoholConsump  \\\n",
       "0                    0            0      0       1                 0   \n",
       "1                    0            1      0       0                 0   \n",
       "2                    0            0      1       0                 0   \n",
       "3                    0            1      1       1                 0   \n",
       "4                    0            1      1       1                 0   \n",
       "\n",
       "  NoDocbcCost GenHlth MentHlth PhysHlth DiffWalk Sex Age Education Income  \n",
       "0           0       5       18       15        1   0   9         4      3  \n",
       "1           1       3        0        0        0   0   7         6      1  \n",
       "2           1       5       30       30        1   0   9         4      8  \n",
       "3           0       2        0        0        0   0  11         3      6  \n",
       "4           0       2        3        0        0   0  11         5      4  "
      ]
     },
     "execution_count": 66,
     "metadata": {},
     "output_type": "execute_result"
    }
   ],
   "source": [
    "# Mostrar los datos\n",
    "diagnostics_t.head()"
   ]
  },
  {
   "cell_type": "code",
   "execution_count": 67,
   "metadata": {
    "scrolled": true
   },
   "outputs": [
    {
     "data": {
      "text/html": [
       "<div>\n",
       "<style scoped>\n",
       "    .dataframe tbody tr th:only-of-type {\n",
       "        vertical-align: middle;\n",
       "    }\n",
       "\n",
       "    .dataframe tbody tr th {\n",
       "        vertical-align: top;\n",
       "    }\n",
       "\n",
       "    .dataframe thead th {\n",
       "        text-align: right;\n",
       "    }\n",
       "</style>\n",
       "<table border=\"1\" class=\"dataframe\">\n",
       "  <thead>\n",
       "    <tr style=\"text-align: right;\">\n",
       "      <th></th>\n",
       "      <th>Diabetes_012</th>\n",
       "      <th>HighBP</th>\n",
       "      <th>HighChol</th>\n",
       "      <th>CholCheck</th>\n",
       "      <th>BMI</th>\n",
       "      <th>Smoker</th>\n",
       "      <th>Stroke</th>\n",
       "      <th>HeartDiseaseorAttack</th>\n",
       "      <th>PhysActivity</th>\n",
       "      <th>Fruits</th>\n",
       "      <th>Veggies</th>\n",
       "      <th>HvyAlcoholConsump</th>\n",
       "      <th>NoDocbcCost</th>\n",
       "      <th>GenHlth</th>\n",
       "      <th>MentHlth</th>\n",
       "      <th>PhysHlth</th>\n",
       "      <th>DiffWalk</th>\n",
       "      <th>Sex</th>\n",
       "      <th>Age</th>\n",
       "      <th>Education</th>\n",
       "      <th>Income</th>\n",
       "    </tr>\n",
       "  </thead>\n",
       "  <tbody>\n",
       "    <tr>\n",
       "      <th>count</th>\n",
       "      <td>98976</td>\n",
       "      <td>98976</td>\n",
       "      <td>98976</td>\n",
       "      <td>98976</td>\n",
       "      <td>98976</td>\n",
       "      <td>98976</td>\n",
       "      <td>98976</td>\n",
       "      <td>98976</td>\n",
       "      <td>98976</td>\n",
       "      <td>98976</td>\n",
       "      <td>98976</td>\n",
       "      <td>98976</td>\n",
       "      <td>98976</td>\n",
       "      <td>98976</td>\n",
       "      <td>98976</td>\n",
       "      <td>98976</td>\n",
       "      <td>98976</td>\n",
       "      <td>98976</td>\n",
       "      <td>98976</td>\n",
       "      <td>98976</td>\n",
       "      <td>98976</td>\n",
       "    </tr>\n",
       "    <tr>\n",
       "      <th>unique</th>\n",
       "      <td>3</td>\n",
       "      <td>2</td>\n",
       "      <td>2</td>\n",
       "      <td>2</td>\n",
       "      <td>92</td>\n",
       "      <td>2</td>\n",
       "      <td>2</td>\n",
       "      <td>2</td>\n",
       "      <td>2</td>\n",
       "      <td>2</td>\n",
       "      <td>2</td>\n",
       "      <td>2</td>\n",
       "      <td>2</td>\n",
       "      <td>5</td>\n",
       "      <td>46</td>\n",
       "      <td>51</td>\n",
       "      <td>2</td>\n",
       "      <td>2</td>\n",
       "      <td>13</td>\n",
       "      <td>6</td>\n",
       "      <td>8</td>\n",
       "    </tr>\n",
       "    <tr>\n",
       "      <th>top</th>\n",
       "      <td>0</td>\n",
       "      <td>0</td>\n",
       "      <td>0</td>\n",
       "      <td>1</td>\n",
       "      <td>27</td>\n",
       "      <td>0</td>\n",
       "      <td>0</td>\n",
       "      <td>0</td>\n",
       "      <td>1</td>\n",
       "      <td>1</td>\n",
       "      <td>1</td>\n",
       "      <td>0</td>\n",
       "      <td>0</td>\n",
       "      <td>2</td>\n",
       "      <td>0</td>\n",
       "      <td>0</td>\n",
       "      <td>0</td>\n",
       "      <td>0</td>\n",
       "      <td>9</td>\n",
       "      <td>6</td>\n",
       "      <td>8</td>\n",
       "    </tr>\n",
       "    <tr>\n",
       "      <th>freq</th>\n",
       "      <td>83271</td>\n",
       "      <td>56002</td>\n",
       "      <td>56236</td>\n",
       "      <td>95385</td>\n",
       "      <td>9543</td>\n",
       "      <td>54892</td>\n",
       "      <td>94885</td>\n",
       "      <td>89739</td>\n",
       "      <td>75402</td>\n",
       "      <td>63025</td>\n",
       "      <td>80675</td>\n",
       "      <td>93323</td>\n",
       "      <td>90877</td>\n",
       "      <td>34734</td>\n",
       "      <td>67821</td>\n",
       "      <td>61916</td>\n",
       "      <td>82522</td>\n",
       "      <td>55605</td>\n",
       "      <td>12982</td>\n",
       "      <td>43417</td>\n",
       "      <td>36538</td>\n",
       "    </tr>\n",
       "  </tbody>\n",
       "</table>\n",
       "</div>"
      ],
      "text/plain": [
       "       Diabetes_012 HighBP HighChol CholCheck    BMI Smoker Stroke  \\\n",
       "count         98976  98976    98976     98976  98976  98976  98976   \n",
       "unique            3      2        2         2     92      2      2   \n",
       "top               0      0        0         1     27      0      0   \n",
       "freq          83271  56002    56236     95385   9543  54892  94885   \n",
       "\n",
       "       HeartDiseaseorAttack PhysActivity Fruits Veggies HvyAlcoholConsump  \\\n",
       "count                 98976        98976  98976   98976             98976   \n",
       "unique                    2            2      2       2                 2   \n",
       "top                       0            1      1       1                 0   \n",
       "freq                  89739        75402  63025   80675             93323   \n",
       "\n",
       "       NoDocbcCost GenHlth MentHlth PhysHlth DiffWalk    Sex    Age Education  \\\n",
       "count        98976   98976    98976    98976    98976  98976  98976     98976   \n",
       "unique           2       5       46       51        2      2     13         6   \n",
       "top              0       2        0        0        0      0      9         6   \n",
       "freq         90877   34734    67821    61916    82522  55605  12982     43417   \n",
       "\n",
       "       Income  \n",
       "count   98976  \n",
       "unique      8  \n",
       "top         8  \n",
       "freq    36538  "
      ]
     },
     "execution_count": 67,
     "metadata": {},
     "output_type": "execute_result"
    }
   ],
   "source": [
    "diagnostics_t=diagnostics_t[~diagnostics_t.isin(['?','-','Xx'])]\n",
    "diagnostics_t=diagnostics_t.dropna(axis=0)\n",
    "diagnostics_t.describe()"
   ]
  },
  {
   "cell_type": "code",
   "execution_count": 68,
   "metadata": {},
   "outputs": [
    {
     "data": {
      "text/plain": [
       "Diabetes_012            0\n",
       "HighBP                  0\n",
       "HighChol                0\n",
       "CholCheck               0\n",
       "BMI                     0\n",
       "Smoker                  0\n",
       "Stroke                  0\n",
       "HeartDiseaseorAttack    0\n",
       "PhysActivity            0\n",
       "Fruits                  0\n",
       "Veggies                 0\n",
       "HvyAlcoholConsump       0\n",
       "NoDocbcCost             0\n",
       "GenHlth                 0\n",
       "MentHlth                0\n",
       "PhysHlth                0\n",
       "DiffWalk                0\n",
       "Sex                     0\n",
       "Age                     0\n",
       "Education               0\n",
       "Income                  0\n",
       "dtype: int64"
      ]
     },
     "execution_count": 68,
     "metadata": {},
     "output_type": "execute_result"
    }
   ],
   "source": [
    "diagnostics_t.isna().sum(axis = 0)"
   ]
  },
  {
   "cell_type": "code",
   "execution_count": 69,
   "metadata": {},
   "outputs": [
    {
     "data": {
      "text/plain": [
       "0    83271\n",
       "2    13826\n",
       "1     1879\n",
       "Name: Diabetes_012, dtype: int64"
      ]
     },
     "execution_count": 69,
     "metadata": {},
     "output_type": "execute_result"
    }
   ],
   "source": [
    "# Podemos ver los estadísticos de la variable \"Diabetes_012\"\n",
    "pd.value_counts(diagnostics_t['Diabetes_012'])"
   ]
  },
  {
   "cell_type": "code",
   "execution_count": 70,
   "metadata": {},
   "outputs": [
    {
     "data": {
      "image/png": "[encoded data removed]",
      "text/plain": [
       "<Figure size 432x288 with 1 Axes>"
      ]
     },
     "metadata": {
      "needs_background": "light"
     },
     "output_type": "display_data"
    }
   ],
   "source": [
    "#Se muestra una gráfica de la cantidad de personas que tiene y no tienen diabetes\n",
    "ax = sns.countplot(x='Diabetes_012', data=diagnostics_t)"
   ]
  },
  {
   "cell_type": "code",
   "execution_count": 71,
   "metadata": {},
   "outputs": [],
   "source": [
    "diagnostics_m = diagnostics_t"
   ]
  },
  {
   "cell_type": "code",
   "execution_count": 72,
   "metadata": {
    "scrolled": true
   },
   "outputs": [
    {
     "data": {
      "text/html": [
       "<div>\n",
       "<style scoped>\n",
       "    .dataframe tbody tr th:only-of-type {\n",
       "        vertical-align: middle;\n",
       "    }\n",
       "\n",
       "    .dataframe tbody tr th {\n",
       "        vertical-align: top;\n",
       "    }\n",
       "\n",
       "    .dataframe thead th {\n",
       "        text-align: right;\n",
       "    }\n",
       "</style>\n",
       "<table border=\"1\" class=\"dataframe\">\n",
       "  <thead>\n",
       "    <tr style=\"text-align: right;\">\n",
       "      <th></th>\n",
       "      <th>Diabetes_012</th>\n",
       "      <th>HighBP</th>\n",
       "      <th>HighChol</th>\n",
       "      <th>CholCheck</th>\n",
       "      <th>BMI</th>\n",
       "      <th>Smoker</th>\n",
       "      <th>Stroke</th>\n",
       "      <th>HeartDiseaseorAttack</th>\n",
       "      <th>PhysActivity</th>\n",
       "      <th>Fruits</th>\n",
       "      <th>Veggies</th>\n",
       "      <th>HvyAlcoholConsump</th>\n",
       "      <th>NoDocbcCost</th>\n",
       "      <th>GenHlth</th>\n",
       "      <th>MentHlth</th>\n",
       "      <th>PhysHlth</th>\n",
       "      <th>DiffWalk</th>\n",
       "      <th>Sex</th>\n",
       "      <th>Age</th>\n",
       "      <th>Education</th>\n",
       "      <th>Income</th>\n",
       "    </tr>\n",
       "  </thead>\n",
       "  <tbody>\n",
       "    <tr>\n",
       "      <th>0</th>\n",
       "      <td>0</td>\n",
       "      <td>1</td>\n",
       "      <td>1</td>\n",
       "      <td>1</td>\n",
       "      <td>40</td>\n",
       "      <td>1</td>\n",
       "      <td>0</td>\n",
       "      <td>0</td>\n",
       "      <td>0</td>\n",
       "      <td>0</td>\n",
       "      <td>1</td>\n",
       "      <td>0</td>\n",
       "      <td>0</td>\n",
       "      <td>5</td>\n",
       "      <td>18</td>\n",
       "      <td>15</td>\n",
       "      <td>1</td>\n",
       "      <td>0</td>\n",
       "      <td>9</td>\n",
       "      <td>4</td>\n",
       "      <td>3</td>\n",
       "    </tr>\n",
       "    <tr>\n",
       "      <th>1</th>\n",
       "      <td>0</td>\n",
       "      <td>0</td>\n",
       "      <td>0</td>\n",
       "      <td>0</td>\n",
       "      <td>25</td>\n",
       "      <td>1</td>\n",
       "      <td>0</td>\n",
       "      <td>0</td>\n",
       "      <td>1</td>\n",
       "      <td>0</td>\n",
       "      <td>0</td>\n",
       "      <td>0</td>\n",
       "      <td>1</td>\n",
       "      <td>3</td>\n",
       "      <td>0</td>\n",
       "      <td>0</td>\n",
       "      <td>0</td>\n",
       "      <td>0</td>\n",
       "      <td>7</td>\n",
       "      <td>6</td>\n",
       "      <td>1</td>\n",
       "    </tr>\n",
       "    <tr>\n",
       "      <th>2</th>\n",
       "      <td>0</td>\n",
       "      <td>1</td>\n",
       "      <td>1</td>\n",
       "      <td>1</td>\n",
       "      <td>28</td>\n",
       "      <td>0</td>\n",
       "      <td>0</td>\n",
       "      <td>0</td>\n",
       "      <td>0</td>\n",
       "      <td>1</td>\n",
       "      <td>0</td>\n",
       "      <td>0</td>\n",
       "      <td>1</td>\n",
       "      <td>5</td>\n",
       "      <td>30</td>\n",
       "      <td>30</td>\n",
       "      <td>1</td>\n",
       "      <td>0</td>\n",
       "      <td>9</td>\n",
       "      <td>4</td>\n",
       "      <td>8</td>\n",
       "    </tr>\n",
       "    <tr>\n",
       "      <th>3</th>\n",
       "      <td>0</td>\n",
       "      <td>1</td>\n",
       "      <td>0</td>\n",
       "      <td>1</td>\n",
       "      <td>27</td>\n",
       "      <td>0</td>\n",
       "      <td>0</td>\n",
       "      <td>0</td>\n",
       "      <td>1</td>\n",
       "      <td>1</td>\n",
       "      <td>1</td>\n",
       "      <td>0</td>\n",
       "      <td>0</td>\n",
       "      <td>2</td>\n",
       "      <td>0</td>\n",
       "      <td>0</td>\n",
       "      <td>0</td>\n",
       "      <td>0</td>\n",
       "      <td>11</td>\n",
       "      <td>3</td>\n",
       "      <td>6</td>\n",
       "    </tr>\n",
       "    <tr>\n",
       "      <th>4</th>\n",
       "      <td>0</td>\n",
       "      <td>1</td>\n",
       "      <td>1</td>\n",
       "      <td>1</td>\n",
       "      <td>24</td>\n",
       "      <td>0</td>\n",
       "      <td>0</td>\n",
       "      <td>0</td>\n",
       "      <td>1</td>\n",
       "      <td>1</td>\n",
       "      <td>1</td>\n",
       "      <td>0</td>\n",
       "      <td>0</td>\n",
       "      <td>2</td>\n",
       "      <td>3</td>\n",
       "      <td>0</td>\n",
       "      <td>0</td>\n",
       "      <td>0</td>\n",
       "      <td>11</td>\n",
       "      <td>5</td>\n",
       "      <td>4</td>\n",
       "    </tr>\n",
       "  </tbody>\n",
       "</table>\n",
       "</div>"
      ],
      "text/plain": [
       "  Diabetes_012 HighBP HighChol CholCheck BMI Smoker Stroke  \\\n",
       "0            0      1        1         1  40      1      0   \n",
       "1            0      0        0         0  25      1      0   \n",
       "2            0      1        1         1  28      0      0   \n",
       "3            0      1        0         1  27      0      0   \n",
       "4            0      1        1         1  24      0      0   \n",
       "\n",
       "  HeartDiseaseorAttack PhysActivity Fruits Veggies HvyAlcoholConsump  \\\n",
       "0                    0            0      0       1                 0   \n",
       "1                    0            1      0       0                 0   \n",
       "2                    0            0      1       0                 0   \n",
       "3                    0            1      1       1                 0   \n",
       "4                    0            1      1       1                 0   \n",
       "\n",
       "  NoDocbcCost GenHlth MentHlth PhysHlth DiffWalk Sex Age Education Income  \n",
       "0           0       5       18       15        1   0   9         4      3  \n",
       "1           1       3        0        0        0   0   7         6      1  \n",
       "2           1       5       30       30        1   0   9         4      8  \n",
       "3           0       2        0        0        0   0  11         3      6  \n",
       "4           0       2        3        0        0   0  11         5      4  "
      ]
     },
     "execution_count": 72,
     "metadata": {},
     "output_type": "execute_result"
    }
   ],
   "source": [
    "# Podemos ver como quedaron los datos\n",
    "diagnostics_m.head()"
   ]
  },
  {
   "cell_type": "code",
   "execution_count": 73,
   "metadata": {},
   "outputs": [
    {
     "data": {
      "text/plain": [
       "(98976, 21)"
      ]
     },
     "execution_count": 73,
     "metadata": {},
     "output_type": "execute_result"
    }
   ],
   "source": [
    "# Revisión del total de registros después de la limpieza\n",
    "diagnostics_m.shape"
   ]
  },
  {
   "cell_type": "markdown",
   "metadata": {},
   "source": [
    "## 4. Construcción del modelo\n",
    "\n",
    "Los algoritmos supervisados implementados en scikit-learn requieren que las variables de entrada estén separadas de la variable objetivo. Adicionalmente debemos normalizar los datos. Esto con el fin de que las distancias sean equiparables."
   ]
  },
  {
   "cell_type": "code",
   "execution_count": 74,
   "metadata": {},
   "outputs": [],
   "source": [
    "#Se realiza la tarea de estandarización\n",
    "scaler = StandardScaler()\n",
    "#Tomamos los datos de entrenamiento como argumentos\n",
    "normalized_diag = scaler.fit_transform(diagnostics_m)\n",
    "normalized_diag = pd.DataFrame(data=diagnostics_m,columns=diagnostics_m.columns)\n"
   ]
  },
  {
   "cell_type": "code",
   "execution_count": 75,
   "metadata": {},
   "outputs": [],
   "source": [
    "# Se selecciona la variable objetivo, en este caso \"Diabetes_012\".\n",
    "Y = normalized_diag['Diabetes_012']\n",
    "# Del conjunto de datos se elimina la variable \"Diabetes_012\"\n",
    "X = normalized_diag.drop(['Diabetes_012'], axis=1)"
   ]
  },
  {
   "cell_type": "code",
   "execution_count": 76,
   "metadata": {},
   "outputs": [],
   "source": [
    "# Dividir los datos en entrenamiento y test\n",
    "X_train, X_test, Y_train, Y_test = train_test_split(X, Y, test_size=0.2, random_state=seed)"
   ]
  },
  {
   "cell_type": "code",
   "execution_count": 104,
   "metadata": {},
   "outputs": [],
   "source": [
    "# Como sabemos que las clases se encuentran desbalanceadas, a través del Underfiting recolectamos una muestra más pequeña\n",
    "from imblearn.under_sampling import ClusterCentroids\n",
    "cc = ClusterCentroids(random_state=0)\n",
    "XTest_resampled, YTest_resampled = cc.fit_resample(X_test,Y_test)\n",
    "XTrain_resampled,YTrain_resampled = cc.fit_resample(X_train,Y_train)"
   ]
  },
  {
   "cell_type": "code",
   "execution_count": 105,
   "metadata": {},
   "outputs": [
    {
     "name": "stdout",
     "output_type": "stream",
     "text": [
      "[('0', 380), ('1', 380), ('2', 380)]\n"
     ]
    }
   ],
   "source": [
    "from collections import Counter\n",
    "print(sorted(Counter(YTest_resampled).items()))"
   ]
  },
  {
   "cell_type": "markdown",
   "metadata": {},
   "source": [
    "#### 4.1  KNN: Nicolas Segura"
   ]
  },
  {
   "cell_type": "code",
   "execution_count": 106,
   "metadata": {},
   "outputs": [],
   "source": [
    "#Por medio de k-fold Cross-Validation se determinan los hiperparámetros. Para este caso se determinó que la mejor opción es utilizar minkowski con 11 vecinos y p = 1 (Distancia Euclidiana) \n",
    "particiones_knn=KFold(n_splits=10,shuffle=True,random_state=seed)\n",
    "param_grid_knn = {'n_neighbors': [2,3,5,7,9,11],'metric': ['minkowski','euclidean','manhattan'], 'p': [1,2]}"
   ]
  },
  {
   "cell_type": "code",
   "execution_count": 107,
   "metadata": {},
   "outputs": [
    {
     "data": {
      "text/plain": [
       "GridSearchCV(cv=KFold(n_splits=10, random_state=161, shuffle=True),\n",
       "             estimator=KNeighborsClassifier(),\n",
       "             param_grid={'metric': ['minkowski', 'euclidean', 'manhattan'],\n",
       "                         'n_neighbors': [2, 3, 5, 7, 9, 11], 'p': [1, 2]})"
      ]
     },
     "execution_count": 107,
     "metadata": {},
     "output_type": "execute_result"
    }
   ],
   "source": [
    "neigh = KNeighborsClassifier()\n",
    "#La siguiente función ermite evaluar y seleccionar de forma sistemática los parámetros de un modelo.\n",
    "mejor_modelok = GridSearchCV(neigh, param_grid_knn, cv=particiones_knn)\n",
    "#Tomamos los datos de entrenamiento como argumentos\n",
    "mejor_modelok.fit(XTrain_resampled, YTrain_resampled)"
   ]
  },
  {
   "cell_type": "code",
   "execution_count": 108,
   "metadata": {},
   "outputs": [
    {
     "data": {
      "text/plain": [
       "{'metric': 'minkowski', 'n_neighbors': 11, 'p': 1}"
      ]
     },
     "execution_count": 108,
     "metadata": {},
     "output_type": "execute_result"
    }
   ],
   "source": [
    "#Obtenemos los mejores hiperparámetros\n",
    "mejor_modelok.best_params_"
   ]
  },
  {
   "cell_type": "code",
   "execution_count": 109,
   "metadata": {},
   "outputs": [],
   "source": [
    "neigh_f = mejor_modelok.best_estimator_"
   ]
  },
  {
   "cell_type": "code",
   "execution_count": 110,
   "metadata": {},
   "outputs": [],
   "source": [
    "#Nos permite predecir las etiquetas de los valores de los datos sobre la base del modelo entrenado.\n",
    "y_pred = neigh_f.predict(XTest_resampled)"
   ]
  },
  {
   "cell_type": "code",
   "execution_count": 111,
   "metadata": {},
   "outputs": [
    {
     "data": {
      "text/plain": [
       "array([[330,   1,  49],\n",
       "       [ 49, 273,  58],\n",
       "       [163,   9, 208]], dtype=int64)"
      ]
     },
     "execution_count": 111,
     "metadata": {},
     "output_type": "execute_result"
    }
   ],
   "source": [
    "# Se genera la matriz de confusión\n",
    "confusion_matrix(YTest_resampled, y_pred)"
   ]
  },
  {
   "cell_type": "code",
   "execution_count": 112,
   "metadata": {},
   "outputs": [
    {
     "data": {
      "image/png": "[encoded data removed]",
      "text/plain": [
       "<Figure size 432x288 with 2 Axes>"
      ]
     },
     "metadata": {
      "needs_background": "light"
     },
     "output_type": "display_data"
    }
   ],
   "source": [
    "# Se puede visualizar la matriz de confusión\n",
    "plot_confusion_matrix(neigh_f, XTest_resampled, YTest_resampled)  \n",
    "plt.show()"
   ]
  },
  {
   "cell_type": "code",
   "execution_count": 113,
   "metadata": {},
   "outputs": [
    {
     "name": "stdout",
     "output_type": "stream",
     "text": [
      "              precision    recall  f1-score   support\n",
      "\n",
      "           0       0.61      0.87      0.72       380\n",
      "           1       0.96      0.72      0.82       380\n",
      "           2       0.66      0.55      0.60       380\n",
      "\n",
      "    accuracy                           0.71      1140\n",
      "   macro avg       0.74      0.71      0.71      1140\n",
      "weighted avg       0.74      0.71      0.71      1140\n",
      "\n"
     ]
    }
   ],
   "source": [
    "# Mostrar reporte de clasificación\n",
    "print(classification_report(YTest_resampled, y_pred))"
   ]
  },
  {
   "cell_type": "markdown",
   "metadata": {},
   "source": [
    "### 4.2 Árbol de decisión: Nicolás Segura"
   ]
  },
  {
   "cell_type": "code",
   "execution_count": 114,
   "metadata": {},
   "outputs": [],
   "source": [
    "#Por medio de k-fold Cross-Validation se determinan los hiperparámetros. Para este caso se determinó que la mejor opción es utilizar gini con profundidad de 4 y  un mínimo de muestras por split de 5.\n",
    "#Gini nos permite medir la probabilidad de no sacar dos registros de la misma clase del nodo. \n",
    "particiones_t = KFold(n_splits=10, shuffle=True, random_state=seed)\n",
    "param_grid = {'criterion': ['gini', 'entropy'],'max_depth': [4,6,8,10,20], 'min_samples_split': [2,3,5,10,15]}"
   ]
  },
  {
   "cell_type": "code",
   "execution_count": 115,
   "metadata": {},
   "outputs": [
    {
     "data": {
      "text/plain": [
       "GridSearchCV(cv=KFold(n_splits=10, random_state=161, shuffle=True),\n",
       "             estimator=DecisionTreeClassifier(random_state=161),\n",
       "             param_grid={'criterion': ['gini', 'entropy'],\n",
       "                         'max_depth': [4, 6, 8, 10, 20],\n",
       "                         'min_samples_split': [2, 3, 5, 10, 15]})"
      ]
     },
     "execution_count": 115,
     "metadata": {},
     "output_type": "execute_result"
    }
   ],
   "source": [
    "#La función mide la calidad de una división.\n",
    "tree = DecisionTreeClassifier(random_state=seed)\n",
    "#Ayuda a recorrer hiperparámetros predefinidos en su conjunto de entrenamiento.\n",
    "mejor_modelo = GridSearchCV(tree, param_grid, cv=particiones_t)\n",
    "#Tomamos los datos de entrenamiento como argumentos\n",
    "mejor_modelo.fit(XTrain_resampled, YTrain_resampled)"
   ]
  },
  {
   "cell_type": "code",
   "execution_count": 116,
   "metadata": {},
   "outputs": [
    {
     "data": {
      "text/plain": [
       "{'criterion': 'gini', 'max_depth': 20, 'min_samples_split': 15}"
      ]
     },
     "execution_count": 116,
     "metadata": {},
     "output_type": "execute_result"
    }
   ],
   "source": [
    "mejor_modelo.best_params_"
   ]
  },
  {
   "cell_type": "code",
   "execution_count": 117,
   "metadata": {},
   "outputs": [],
   "source": [
    "# Crear el objeto de arbol de decisión. \n",
    "f_tree=mejor_modelo.best_estimator_"
   ]
  },
  {
   "cell_type": "markdown",
   "metadata": {},
   "source": [
    "Para determinar el rendimiento del modelo podemos en primer lugar, generar la matriz de confusión."
   ]
  },
  {
   "cell_type": "code",
   "execution_count": 118,
   "metadata": {},
   "outputs": [],
   "source": [
    "# Determinamos las predicciones del modelo sobre el conjunto test.\n",
    "y_pred = f_tree.predict(XTest_resampled)"
   ]
  },
  {
   "cell_type": "code",
   "execution_count": 119,
   "metadata": {},
   "outputs": [
    {
     "data": {
      "text/plain": [
       "array([[341,   1,  38],\n",
       "       [  0, 365,  15],\n",
       "       [ 67,  32, 281]], dtype=int64)"
      ]
     },
     "execution_count": 119,
     "metadata": {},
     "output_type": "execute_result"
    }
   ],
   "source": [
    "# Se genera la matriz de confusión\n",
    "confusion_matrix(YTest_resampled, y_pred)"
   ]
  },
  {
   "cell_type": "code",
   "execution_count": 120,
   "metadata": {},
   "outputs": [
    {
     "data": {
      "image/png": "[encoded data removed]",
      "text/plain": [
       "<Figure size 432x288 with 2 Axes>"
      ]
     },
     "metadata": {
      "needs_background": "light"
     },
     "output_type": "display_data"
    }
   ],
   "source": [
    "# Se puede visualizar la matriz de confusión\n",
    "plot_confusion_matrix(f_tree, XTest_resampled, YTest_resampled)  \n",
    "plt.show()  "
   ]
  },
  {
   "cell_type": "markdown",
   "metadata": {},
   "source": [
    "Para tener una panorama completo podemos generar un reporte."
   ]
  },
  {
   "cell_type": "code",
   "execution_count": 121,
   "metadata": {
    "scrolled": true
   },
   "outputs": [
    {
     "name": "stdout",
     "output_type": "stream",
     "text": [
      "              precision    recall  f1-score   support\n",
      "\n",
      "           0       0.84      0.90      0.87       380\n",
      "           1       0.92      0.96      0.94       380\n",
      "           2       0.84      0.74      0.79       380\n",
      "\n",
      "    accuracy                           0.87      1140\n",
      "   macro avg       0.86      0.87      0.86      1140\n",
      "weighted avg       0.86      0.87      0.86      1140\n",
      "\n"
     ]
    }
   ],
   "source": [
    "# Mostrar reporte de clasificación\n",
    "print(classification_report(YTest_resampled, y_pred))"
   ]
  },
  {
   "cell_type": "markdown",
   "metadata": {},
   "source": [
    "### 4.3 Regresion Lineal: Nicolás Segura"
   ]
  },
  {
   "cell_type": "code",
   "execution_count": 122,
   "metadata": {},
   "outputs": [
    {
     "data": {
      "text/plain": [
       "[('HighBP', 0.3809298695843045),\n",
       " ('HighChol', 0.36682960628713235),\n",
       " ('CholCheck', 0.7738580388266072),\n",
       " ('BMI', 0.004024054168580371),\n",
       " ('Smoker', -0.06321080132507731),\n",
       " ('Stroke', 0.07229007550725733),\n",
       " ('HeartDiseaseorAttack', 0.1920147429561602),\n",
       " ('PhysActivity', -0.06564754872718437),\n",
       " ('Fruits', 0.019358806753298652),\n",
       " ('Veggies', 0.0014745481209120599),\n",
       " ('HvyAlcoholConsump', -0.32815028712935124),\n",
       " ('NoDocbcCost', 0.0495647810757038),\n",
       " ('GenHlth', 0.17772100696908227),\n",
       " ('MentHlth', -0.0030178862024276),\n",
       " ('PhysHlth', -0.0060154188727797875),\n",
       " ('DiffWalk', 0.11077591660200414),\n",
       " ('Sex', 0.13413625356779602),\n",
       " ('Age', 0.0037383114054026223),\n",
       " ('Education', -0.015605483311113534),\n",
       " ('Income', -0.002938069970929151)]"
      ]
     },
     "execution_count": 122,
     "metadata": {},
     "output_type": "execute_result"
    }
   ],
   "source": [
    "#Realiza una regresión lineal (en donde se modela la relación entre una variable dependiente con un conjunto dado de variables independientes) con los datos de entrenamiento como argumentos\n",
    "LinearModel = LinearRegression().fit(XTrain_resampled, YTrain_resampled)\n",
    "#Se evalúa la relación de las variables con la variable objetivo\n",
    "list(zip(XTrain_resampled, LinearModel.coef_))"
   ]
  },
  {
   "cell_type": "code",
   "execution_count": 123,
   "metadata": {},
   "outputs": [
    {
     "data": {
      "text/plain": [
       "array([0.95137267, 1.14017128, 0.35562849, ..., 1.1325355 , 1.03607025,\n",
       "       1.06885188])"
      ]
     },
     "execution_count": 123,
     "metadata": {},
     "output_type": "execute_result"
    }
   ],
   "source": [
    "#Este método nos permite predecir las etiquetas de los valores de los datos sobre la base del modelo entrenado.\n",
    "y_prediction_lineal = LinearModel.predict(XTest_resampled)\n",
    "#Se entrena el modelo y se muestran los coeficientes de cada valor de la regresión\n",
    "y_prediction_lineal"
   ]
  },
  {
   "cell_type": "code",
   "execution_count": 124,
   "metadata": {},
   "outputs": [
    {
     "data": {
      "text/plain": [
       "array([0.72139115, 0.75771108, 0.5879818 , ..., 0.75630651, 0.73809105,\n",
       "       0.74437851])"
      ]
     },
     "execution_count": 124,
     "metadata": {},
     "output_type": "execute_result"
    }
   ],
   "source": [
    "#Se aplica la función sigmoide para regular los valores del outcome\n",
    "y_prediction_lineal=np.array(list(map(lambda x: (1/(1+(np.exp(-x)))), y_prediction_lineal)))\n",
    "y_prediction_lineal"
   ]
  },
  {
   "cell_type": "code",
   "execution_count": 125,
   "metadata": {},
   "outputs": [],
   "source": [
    "# Se establece un soft Threshold \n",
    "y_prediction_lineal[y_prediction_lineal >= 0.65904607] = 1 \n",
    "y_prediction_lineal[y_prediction_lineal < 0.65904607] = 0\n",
    "\n"
   ]
  },
  {
   "cell_type": "code",
   "execution_count": 126,
   "metadata": {},
   "outputs": [],
   "source": [
    "# Se puede visualizar la matriz de confusión\n",
    "cm = confusion_matrix(YTest_resampled.astype(int), y_prediction_lineal)"
   ]
  },
  {
   "cell_type": "code",
   "execution_count": 127,
   "metadata": {},
   "outputs": [
    {
     "data": {
      "image/png": "[encoded data removed]",
      "text/plain": [
       "<Figure size 432x288 with 2 Axes>"
      ]
     },
     "metadata": {
      "needs_background": "light"
     },
     "output_type": "display_data"
    }
   ],
   "source": [
    "disp = ConfusionMatrixDisplay(confusion_matrix=cm)\n",
    "disp.plot()\n",
    "plt.show()"
   ]
  },
  {
   "cell_type": "code",
   "execution_count": 128,
   "metadata": {
    "scrolled": true
   },
   "outputs": [
    {
     "name": "stdout",
     "output_type": "stream",
     "text": [
      "              precision    recall  f1-score   support\n",
      "\n",
      "           0       0.00      0.00      0.00     380.0\n",
      "         0.0       0.00      0.00      0.00       0.0\n",
      "           1       0.00      0.00      0.00     380.0\n",
      "         1.0       0.00      0.00      0.00       0.0\n",
      "           2       0.00      0.00      0.00     380.0\n",
      "\n",
      "    accuracy                           0.00    1140.0\n",
      "   macro avg       0.00      0.00      0.00    1140.0\n",
      "weighted avg       0.00      0.00      0.00    1140.0\n",
      "\n"
     ]
    },
    {
     "name": "stderr",
     "output_type": "stream",
     "text": [
      "C:\\Users\\david\\anaconda3\\lib\\site-packages\\sklearn\\metrics\\_classification.py:1221: UndefinedMetricWarning: Precision and F-score are ill-defined and being set to 0.0 in labels with no predicted samples. Use `zero_division` parameter to control this behavior.\n",
      "  _warn_prf(average, modifier, msg_start, len(result))\n",
      "C:\\Users\\david\\anaconda3\\lib\\site-packages\\sklearn\\metrics\\_classification.py:1221: UndefinedMetricWarning: Recall and F-score are ill-defined and being set to 0.0 in labels with no true samples. Use `zero_division` parameter to control this behavior.\n",
      "  _warn_prf(average, modifier, msg_start, len(result))\n"
     ]
    }
   ],
   "source": [
    "#Se muestra el reporte de clasificación\n",
    "print(classification_report(YTest_resampled.astype(str), y_prediction_lineal.astype(str)))"
   ]
  },
  {
   "cell_type": "markdown",
   "metadata": {},
   "source": [
    "### 5. Interpretación del modelo. Podemos determinar cuáles atributos son los más importantes a partir del modelo generado. \n"
   ]
  },
  {
   "cell_type": "code",
   "execution_count": 129,
   "metadata": {},
   "outputs": [],
   "source": [
    "importancia= f_tree.feature_importances_"
   ]
  },
  {
   "cell_type": "code",
   "execution_count": 130,
   "metadata": {},
   "outputs": [
    {
     "data": {
      "text/html": [
       "<div>\n",
       "<style scoped>\n",
       "    .dataframe tbody tr th:only-of-type {\n",
       "        vertical-align: middle;\n",
       "    }\n",
       "\n",
       "    .dataframe tbody tr th {\n",
       "        vertical-align: top;\n",
       "    }\n",
       "\n",
       "    .dataframe thead th {\n",
       "        text-align: right;\n",
       "    }\n",
       "</style>\n",
       "<table border=\"1\" class=\"dataframe\">\n",
       "  <thead>\n",
       "    <tr style=\"text-align: right;\">\n",
       "      <th></th>\n",
       "      <th>Atributo</th>\n",
       "      <th>Importancia</th>\n",
       "    </tr>\n",
       "  </thead>\n",
       "  <tbody>\n",
       "    <tr>\n",
       "      <th>0</th>\n",
       "      <td>PhysActivity</td>\n",
       "      <td>0.283167</td>\n",
       "    </tr>\n",
       "    <tr>\n",
       "      <th>1</th>\n",
       "      <td>CholCheck</td>\n",
       "      <td>0.279285</td>\n",
       "    </tr>\n",
       "    <tr>\n",
       "      <th>2</th>\n",
       "      <td>MentHlth</td>\n",
       "      <td>0.080996</td>\n",
       "    </tr>\n",
       "    <tr>\n",
       "      <th>3</th>\n",
       "      <td>BMI</td>\n",
       "      <td>0.067179</td>\n",
       "    </tr>\n",
       "    <tr>\n",
       "      <th>4</th>\n",
       "      <td>HighChol</td>\n",
       "      <td>0.060387</td>\n",
       "    </tr>\n",
       "    <tr>\n",
       "      <th>5</th>\n",
       "      <td>HighBP</td>\n",
       "      <td>0.044887</td>\n",
       "    </tr>\n",
       "    <tr>\n",
       "      <th>6</th>\n",
       "      <td>PhysHlth</td>\n",
       "      <td>0.029515</td>\n",
       "    </tr>\n",
       "    <tr>\n",
       "      <th>7</th>\n",
       "      <td>DiffWalk</td>\n",
       "      <td>0.029100</td>\n",
       "    </tr>\n",
       "    <tr>\n",
       "      <th>8</th>\n",
       "      <td>HeartDiseaseorAttack</td>\n",
       "      <td>0.024467</td>\n",
       "    </tr>\n",
       "    <tr>\n",
       "      <th>9</th>\n",
       "      <td>Age</td>\n",
       "      <td>0.015316</td>\n",
       "    </tr>\n",
       "    <tr>\n",
       "      <th>10</th>\n",
       "      <td>HvyAlcoholConsump</td>\n",
       "      <td>0.012195</td>\n",
       "    </tr>\n",
       "    <tr>\n",
       "      <th>11</th>\n",
       "      <td>Sex</td>\n",
       "      <td>0.011444</td>\n",
       "    </tr>\n",
       "    <tr>\n",
       "      <th>12</th>\n",
       "      <td>GenHlth</td>\n",
       "      <td>0.011395</td>\n",
       "    </tr>\n",
       "    <tr>\n",
       "      <th>13</th>\n",
       "      <td>NoDocbcCost</td>\n",
       "      <td>0.011056</td>\n",
       "    </tr>\n",
       "    <tr>\n",
       "      <th>14</th>\n",
       "      <td>Fruits</td>\n",
       "      <td>0.010347</td>\n",
       "    </tr>\n",
       "    <tr>\n",
       "      <th>15</th>\n",
       "      <td>Income</td>\n",
       "      <td>0.008069</td>\n",
       "    </tr>\n",
       "    <tr>\n",
       "      <th>16</th>\n",
       "      <td>Smoker</td>\n",
       "      <td>0.006275</td>\n",
       "    </tr>\n",
       "    <tr>\n",
       "      <th>17</th>\n",
       "      <td>Education</td>\n",
       "      <td>0.005645</td>\n",
       "    </tr>\n",
       "    <tr>\n",
       "      <th>18</th>\n",
       "      <td>Stroke</td>\n",
       "      <td>0.005006</td>\n",
       "    </tr>\n",
       "    <tr>\n",
       "      <th>19</th>\n",
       "      <td>Veggies</td>\n",
       "      <td>0.004268</td>\n",
       "    </tr>\n",
       "  </tbody>\n",
       "</table>\n",
       "</div>"
      ],
      "text/plain": [
       "                Atributo  Importancia\n",
       "0           PhysActivity     0.283167\n",
       "1              CholCheck     0.279285\n",
       "2               MentHlth     0.080996\n",
       "3                    BMI     0.067179\n",
       "4               HighChol     0.060387\n",
       "5                 HighBP     0.044887\n",
       "6               PhysHlth     0.029515\n",
       "7               DiffWalk     0.029100\n",
       "8   HeartDiseaseorAttack     0.024467\n",
       "9                    Age     0.015316\n",
       "10     HvyAlcoholConsump     0.012195\n",
       "11                   Sex     0.011444\n",
       "12               GenHlth     0.011395\n",
       "13           NoDocbcCost     0.011056\n",
       "14                Fruits     0.010347\n",
       "15                Income     0.008069\n",
       "16                Smoker     0.006275\n",
       "17             Education     0.005645\n",
       "18                Stroke     0.005006\n",
       "19               Veggies     0.004268"
      ]
     },
     "execution_count": 130,
     "metadata": {},
     "output_type": "execute_result"
    }
   ],
   "source": [
    "importancia_atributo = pd.DataFrame(data={\"Atributo\": XTrain_resampled.columns,\"Importancia\": importancia})\n",
    "importancia_atributo = importancia_atributo.sort_values(by='Importancia', ascending=False).reset_index(drop=True)\n",
    "importancia_atributo"
   ]
  }
 ],
 "metadata": {
  "interpreter": {
   "hash": "49beccb6958119385ce6d36865420c6b2aff7fa332d4ab133206b3783b93441f"
  },
  "kernelspec": {
   "display_name": "Python 3 (ipykernel)",
   "language": "python",
   "name": "python3"
  },
  "language_info": {
   "codemirror_mode": {
    "name": "ipython",
    "version": 3
   },
   "file_extension": ".py",
   "mimetype": "text/x-python",
   "name": "python",
   "nbconvert_exporter": "python",
   "pygments_lexer": "ipython3",
   "version": "3.8.8"
  },
  "toc-autonumbering": false,
  "toc-showcode": true,
  "toc-showmarkdowntxt": true,
  "toc-showtags": false
 },
 "nbformat": 4,
 "nbformat_minor": 4
}
